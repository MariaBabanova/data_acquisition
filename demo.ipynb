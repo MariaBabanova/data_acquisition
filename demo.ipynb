{
 "cells": [
  {
   "cell_type": "code",
   "execution_count": 19,
   "id": "initial_id",
   "metadata": {
    "collapsed": true,
    "ExecuteTime": {
     "end_time": "2024-04-12T18:38:05.285680Z",
     "start_time": "2024-04-12T18:38:05.181849Z"
    }
   },
   "outputs": [
    {
     "data": {
      "text/plain": "list"
     },
     "execution_count": 19,
     "metadata": {},
     "output_type": "execute_result"
    }
   ],
   "source": [
    "import numpy as np\n",
    "import matplotlib.pyplot as plt\n",
    "import pandas as pd\n",
    "import sqlalchemy\n",
    "\n",
    "#data acquisition\n",
    "my_list = ['a', 'b', 'c', 'd', 'e', 'f', 'test']\n",
    "type(my_list)"
   ]
  },
  {
   "cell_type": "code",
   "outputs": [],
   "source": [
    "accidents_data = pd.read_csv(\"data/accidents.csv\")"
   ],
   "metadata": {
    "collapsed": false,
    "ExecuteTime": {
     "end_time": "2024-04-12T18:05:02.277596Z",
     "start_time": "2024-04-12T18:05:02.271610Z"
    }
   },
   "id": "b15826336e27b968",
   "execution_count": 5
  },
  {
   "cell_type": "code",
   "outputs": [
    {
     "data": {
      "text/plain": "  Miles from Home  % of Accidents\n0     less than 1              23\n1          1 to 5              29\n2         6 to 10              17\n3        11 to 15               8\n4        16 to 20               6\n5         over 20              17",
      "text/html": "<div>\n<style scoped>\n    .dataframe tbody tr th:only-of-type {\n        vertical-align: middle;\n    }\n\n    .dataframe tbody tr th {\n        vertical-align: top;\n    }\n\n    .dataframe thead th {\n        text-align: right;\n    }\n</style>\n<table border=\"1\" class=\"dataframe\">\n  <thead>\n    <tr style=\"text-align: right;\">\n      <th></th>\n      <th>Miles from Home</th>\n      <th>% of Accidents</th>\n    </tr>\n  </thead>\n  <tbody>\n    <tr>\n      <th>0</th>\n      <td>less than 1</td>\n      <td>23</td>\n    </tr>\n    <tr>\n      <th>1</th>\n      <td>1 to 5</td>\n      <td>29</td>\n    </tr>\n    <tr>\n      <th>2</th>\n      <td>6 to 10</td>\n      <td>17</td>\n    </tr>\n    <tr>\n      <th>3</th>\n      <td>11 to 15</td>\n      <td>8</td>\n    </tr>\n    <tr>\n      <th>4</th>\n      <td>16 to 20</td>\n      <td>6</td>\n    </tr>\n    <tr>\n      <th>5</th>\n      <td>over 20</td>\n      <td>17</td>\n    </tr>\n  </tbody>\n</table>\n</div>"
     },
     "execution_count": 6,
     "metadata": {},
     "output_type": "execute_result"
    }
   ],
   "source": [
    "accidents_data"
   ],
   "metadata": {
    "collapsed": false,
    "ExecuteTime": {
     "end_time": "2024-04-12T18:05:06.060873Z",
     "start_time": "2024-04-12T18:05:06.053534Z"
    }
   },
   "id": "aba584a7b29b6c4",
   "execution_count": 6
  },
  {
   "cell_type": "code",
   "outputs": [
    {
     "data": {
      "text/plain": "(6, 2)"
     },
     "execution_count": 7,
     "metadata": {},
     "output_type": "execute_result"
    }
   ],
   "source": [
    "accidents_data.shape"
   ],
   "metadata": {
    "collapsed": false,
    "ExecuteTime": {
     "end_time": "2024-04-12T18:05:17.987261Z",
     "start_time": "2024-04-12T18:05:17.979601Z"
    }
   },
   "id": "3834a57ba20c4740",
   "execution_count": 7
  },
  {
   "cell_type": "code",
   "outputs": [
    {
     "data": {
      "text/plain": "  Miles from Home  % of Accidents\n0     less than 1              23\n1          1 to 5              29\n2         6 to 10              17\n3        11 to 15               8\n4        16 to 20               6",
      "text/html": "<div>\n<style scoped>\n    .dataframe tbody tr th:only-of-type {\n        vertical-align: middle;\n    }\n\n    .dataframe tbody tr th {\n        vertical-align: top;\n    }\n\n    .dataframe thead th {\n        text-align: right;\n    }\n</style>\n<table border=\"1\" class=\"dataframe\">\n  <thead>\n    <tr style=\"text-align: right;\">\n      <th></th>\n      <th>Miles from Home</th>\n      <th>% of Accidents</th>\n    </tr>\n  </thead>\n  <tbody>\n    <tr>\n      <th>0</th>\n      <td>less than 1</td>\n      <td>23</td>\n    </tr>\n    <tr>\n      <th>1</th>\n      <td>1 to 5</td>\n      <td>29</td>\n    </tr>\n    <tr>\n      <th>2</th>\n      <td>6 to 10</td>\n      <td>17</td>\n    </tr>\n    <tr>\n      <th>3</th>\n      <td>11 to 15</td>\n      <td>8</td>\n    </tr>\n    <tr>\n      <th>4</th>\n      <td>16 to 20</td>\n      <td>6</td>\n    </tr>\n  </tbody>\n</table>\n</div>"
     },
     "execution_count": 8,
     "metadata": {},
     "output_type": "execute_result"
    }
   ],
   "source": [
    "accidents_data.head()"
   ],
   "metadata": {
    "collapsed": false,
    "ExecuteTime": {
     "end_time": "2024-04-12T18:05:27.792626Z",
     "start_time": "2024-04-12T18:05:27.786540Z"
    }
   },
   "id": "dcc41a08eb3b2af6",
   "execution_count": 8
  },
  {
   "cell_type": "code",
   "outputs": [
    {
     "data": {
      "text/plain": "<BarContainer object of 6 artists>"
     },
     "execution_count": 10,
     "metadata": {},
     "output_type": "execute_result"
    },
    {
     "data": {
      "text/plain": "<Figure size 640x480 with 1 Axes>",
      "image/png": "[encoded data removed]"
     },
     "metadata": {},
     "output_type": "display_data"
    }
   ],
   "source": [
    "plt.barh(accidents_data['Miles from Home'], accidents_data['% of Accidents'])"
   ],
   "metadata": {
    "collapsed": false,
    "ExecuteTime": {
     "end_time": "2024-04-12T18:07:44.712397Z",
     "start_time": "2024-04-12T18:07:44.578815Z"
    }
   },
   "id": "81158c1c25de28ce",
   "execution_count": 10
  },
  {
   "cell_type": "code",
   "outputs": [],
   "source": [
    "green_trip_data = pd.read_excel(\"data/green_tripdata_2015-09.xlsx\")"
   ],
   "metadata": {
    "collapsed": false,
    "ExecuteTime": {
     "end_time": "2024-04-12T18:26:39.430218Z",
     "start_time": "2024-04-12T18:26:37.706716Z"
    }
   },
   "id": "e075f94001b1b958",
   "execution_count": 15
  },
  {
   "cell_type": "code",
   "outputs": [
    {
     "data": {
      "text/plain": "       VendorID lpep_pickup_datetime Lpep_dropoff_datetime Store_and_fwd_flag  \\\n0             2  2015-09-01 00:02:34   2015-09-01 00:02:38                  N   \n1             2  2015-09-01 00:04:20   2015-09-01 00:04:24                  N   \n2             2  2015-09-01 00:01:50   2015-09-01 00:04:24                  N   \n3             2  2015-09-01 00:02:36   2015-09-01 00:06:42                  N   \n4             2  2015-09-01 00:00:14   2015-09-01 00:04:20                  N   \n...         ...                  ...                   ...                ...   \n65530         2  2015-09-02 16:51:59   2015-09-02 17:04:00                  N   \n65531         2  2015-09-02 16:53:51   2015-09-02 17:04:32                  N   \n65532         2  2015-09-02 16:57:21   2015-09-02 17:05:03                  N   \n65533         2  2015-09-02 16:51:42   2015-09-02 17:05:28                  N   \n65534         2  2015-09-02 16:40:36   2015-09-02 16:48:20                  N   \n\n       RateCodeID  Pickup_longitude  Pickup_latitude  Dropoff_longitude  \\\n0               5        -73.979485        40.684956         -73.979431   \n1               5        -74.010796        40.912216         -74.010780   \n2               1        -73.921410        40.766708         -73.914413   \n3               1        -73.921387        40.766678         -73.931427   \n4               1        -73.955482        40.714046         -73.944412   \n...           ...               ...              ...                ...   \n65530           1        -73.829605        40.759716         -73.832214   \n65531           1        -73.962112        40.805710         -73.984970   \n65532           1        -73.829941        40.713718         -73.831917   \n65533           1        -73.860748        40.832661         -73.845169   \n65534           1        -73.941887        40.822948         -73.937180   \n\n       Dropoff_latitude  Passenger_count  ...  Fare_amount  Extra  MTA_tax  \\\n0             40.685020                1  ...          7.8    0.0      0.0   \n1             40.912212                1  ...         45.0    0.0      0.0   \n2             40.764687                1  ...          4.0    0.5      0.5   \n3             40.771584                1  ...          5.0    0.5      0.5   \n4             40.714729                1  ...          5.0    0.5      0.5   \n...                 ...              ...  ...          ...    ...      ...   \n65530         40.751514                1  ...          9.0    1.0      0.5   \n65531         40.769550                1  ...         10.5    1.0      0.5   \n65532         40.702145                1  ...          7.0    1.0      0.5   \n65533         40.845306                1  ...         10.5    1.0      0.5   \n65534         40.804462                1  ...          8.0    1.0      0.5   \n\n       Tip_amount  Tolls_amount  Ehail_fee  improvement_surcharge  \\\n0            1.95           0.0        NaN                    0.0   \n1            0.00           0.0        NaN                    0.0   \n2            0.50           0.0        NaN                    0.3   \n3            0.00           0.0        NaN                    0.3   \n4            0.00           0.0        NaN                    0.3   \n...           ...           ...        ...                    ...   \n65530        0.00           0.0        NaN                    0.3   \n65531        2.46           0.0        NaN                    0.3   \n65532        2.20           0.0        NaN                    0.3   \n65533        2.46           0.0        NaN                    0.3   \n65534        0.00           0.0        NaN                    0.3   \n\n       Total_amount  Payment_type  Trip_type   \n0              9.75             1           2  \n1             45.00             1           2  \n2              5.80             1           1  \n3              6.30             2           1  \n4              6.30             2           1  \n...             ...           ...         ...  \n65530         10.80             2           1  \n65531         14.76             1           1  \n65532         11.00             1           1  \n65533         14.76             1           1  \n65534          9.80             2           1  \n\n[65535 rows x 21 columns]",
      "text/html": "<div>\n<style scoped>\n    .dataframe tbody tr th:only-of-type {\n        vertical-align: middle;\n    }\n\n    .dataframe tbody tr th {\n        vertical-align: top;\n    }\n\n    .dataframe thead th {\n        text-align: right;\n    }\n</style>\n<table border=\"1\" class=\"dataframe\">\n  <thead>\n    <tr style=\"text-align: right;\">\n      <th></th>\n      <th>VendorID</th>\n      <th>lpep_pickup_datetime</th>\n      <th>Lpep_dropoff_datetime</th>\n      <th>Store_and_fwd_flag</th>\n      <th>RateCodeID</th>\n      <th>Pickup_longitude</th>\n      <th>Pickup_latitude</th>\n      <th>Dropoff_longitude</th>\n      <th>Dropoff_latitude</th>\n      <th>Passenger_count</th>\n      <th>...</th>\n      <th>Fare_amount</th>\n      <th>Extra</th>\n      <th>MTA_tax</th>\n      <th>Tip_amount</th>\n      <th>Tolls_amount</th>\n      <th>Ehail_fee</th>\n      <th>improvement_surcharge</th>\n      <th>Total_amount</th>\n      <th>Payment_type</th>\n      <th>Trip_type</th>\n    </tr>\n  </thead>\n  <tbody>\n    <tr>\n      <th>0</th>\n      <td>2</td>\n      <td>2015-09-01 00:02:34</td>\n      <td>2015-09-01 00:02:38</td>\n      <td>N</td>\n      <td>5</td>\n      <td>-73.979485</td>\n      <td>40.684956</td>\n      <td>-73.979431</td>\n      <td>40.685020</td>\n      <td>1</td>\n      <td>...</td>\n      <td>7.8</td>\n      <td>0.0</td>\n      <td>0.0</td>\n      <td>1.95</td>\n      <td>0.0</td>\n      <td>NaN</td>\n      <td>0.0</td>\n      <td>9.75</td>\n      <td>1</td>\n      <td>2</td>\n    </tr>\n    <tr>\n      <th>1</th>\n      <td>2</td>\n      <td>2015-09-01 00:04:20</td>\n      <td>2015-09-01 00:04:24</td>\n      <td>N</td>\n      <td>5</td>\n      <td>-74.010796</td>\n      <td>40.912216</td>\n      <td>-74.010780</td>\n      <td>40.912212</td>\n      <td>1</td>\n      <td>...</td>\n      <td>45.0</td>\n      <td>0.0</td>\n      <td>0.0</td>\n      <td>0.00</td>\n      <td>0.0</td>\n      <td>NaN</td>\n      <td>0.0</td>\n      <td>45.00</td>\n      <td>1</td>\n      <td>2</td>\n    </tr>\n    <tr>\n      <th>2</th>\n      <td>2</td>\n      <td>2015-09-01 00:01:50</td>\n      <td>2015-09-01 00:04:24</td>\n      <td>N</td>\n      <td>1</td>\n      <td>-73.921410</td>\n      <td>40.766708</td>\n      <td>-73.914413</td>\n      <td>40.764687</td>\n      <td>1</td>\n      <td>...</td>\n      <td>4.0</td>\n      <td>0.5</td>\n      <td>0.5</td>\n      <td>0.50</td>\n      <td>0.0</td>\n      <td>NaN</td>\n      <td>0.3</td>\n      <td>5.80</td>\n      <td>1</td>\n      <td>1</td>\n    </tr>\n    <tr>\n      <th>3</th>\n      <td>2</td>\n      <td>2015-09-01 00:02:36</td>\n      <td>2015-09-01 00:06:42</td>\n      <td>N</td>\n      <td>1</td>\n      <td>-73.921387</td>\n      <td>40.766678</td>\n      <td>-73.931427</td>\n      <td>40.771584</td>\n      <td>1</td>\n      <td>...</td>\n      <td>5.0</td>\n      <td>0.5</td>\n      <td>0.5</td>\n      <td>0.00</td>\n      <td>0.0</td>\n      <td>NaN</td>\n      <td>0.3</td>\n      <td>6.30</td>\n      <td>2</td>\n      <td>1</td>\n    </tr>\n    <tr>\n      <th>4</th>\n      <td>2</td>\n      <td>2015-09-01 00:00:14</td>\n      <td>2015-09-01 00:04:20</td>\n      <td>N</td>\n      <td>1</td>\n      <td>-73.955482</td>\n      <td>40.714046</td>\n      <td>-73.944412</td>\n      <td>40.714729</td>\n      <td>1</td>\n      <td>...</td>\n      <td>5.0</td>\n      <td>0.5</td>\n      <td>0.5</td>\n      <td>0.00</td>\n      <td>0.0</td>\n      <td>NaN</td>\n      <td>0.3</td>\n      <td>6.30</td>\n      <td>2</td>\n      <td>1</td>\n    </tr>\n    <tr>\n      <th>...</th>\n      <td>...</td>\n      <td>...</td>\n      <td>...</td>\n      <td>...</td>\n      <td>...</td>\n      <td>...</td>\n      <td>...</td>\n      <td>...</td>\n      <td>...</td>\n      <td>...</td>\n      <td>...</td>\n      <td>...</td>\n      <td>...</td>\n      <td>...</td>\n      <td>...</td>\n      <td>...</td>\n      <td>...</td>\n      <td>...</td>\n      <td>...</td>\n      <td>...</td>\n      <td>...</td>\n    </tr>\n    <tr>\n      <th>65530</th>\n      <td>2</td>\n      <td>2015-09-02 16:51:59</td>\n      <td>2015-09-02 17:04:00</td>\n      <td>N</td>\n      <td>1</td>\n      <td>-73.829605</td>\n      <td>40.759716</td>\n      <td>-73.832214</td>\n      <td>40.751514</td>\n      <td>1</td>\n      <td>...</td>\n      <td>9.0</td>\n      <td>1.0</td>\n      <td>0.5</td>\n      <td>0.00</td>\n      <td>0.0</td>\n      <td>NaN</td>\n      <td>0.3</td>\n      <td>10.80</td>\n      <td>2</td>\n      <td>1</td>\n    </tr>\n    <tr>\n      <th>65531</th>\n      <td>2</td>\n      <td>2015-09-02 16:53:51</td>\n      <td>2015-09-02 17:04:32</td>\n      <td>N</td>\n      <td>1</td>\n      <td>-73.962112</td>\n      <td>40.805710</td>\n      <td>-73.984970</td>\n      <td>40.769550</td>\n      <td>1</td>\n      <td>...</td>\n      <td>10.5</td>\n      <td>1.0</td>\n      <td>0.5</td>\n      <td>2.46</td>\n      <td>0.0</td>\n      <td>NaN</td>\n      <td>0.3</td>\n      <td>14.76</td>\n      <td>1</td>\n      <td>1</td>\n    </tr>\n    <tr>\n      <th>65532</th>\n      <td>2</td>\n      <td>2015-09-02 16:57:21</td>\n      <td>2015-09-02 17:05:03</td>\n      <td>N</td>\n      <td>1</td>\n      <td>-73.829941</td>\n      <td>40.713718</td>\n      <td>-73.831917</td>\n      <td>40.702145</td>\n      <td>1</td>\n      <td>...</td>\n      <td>7.0</td>\n      <td>1.0</td>\n      <td>0.5</td>\n      <td>2.20</td>\n      <td>0.0</td>\n      <td>NaN</td>\n      <td>0.3</td>\n      <td>11.00</td>\n      <td>1</td>\n      <td>1</td>\n    </tr>\n    <tr>\n      <th>65533</th>\n      <td>2</td>\n      <td>2015-09-02 16:51:42</td>\n      <td>2015-09-02 17:05:28</td>\n      <td>N</td>\n      <td>1</td>\n      <td>-73.860748</td>\n      <td>40.832661</td>\n      <td>-73.845169</td>\n      <td>40.845306</td>\n      <td>1</td>\n      <td>...</td>\n      <td>10.5</td>\n      <td>1.0</td>\n      <td>0.5</td>\n      <td>2.46</td>\n      <td>0.0</td>\n      <td>NaN</td>\n      <td>0.3</td>\n      <td>14.76</td>\n      <td>1</td>\n      <td>1</td>\n    </tr>\n    <tr>\n      <th>65534</th>\n      <td>2</td>\n      <td>2015-09-02 16:40:36</td>\n      <td>2015-09-02 16:48:20</td>\n      <td>N</td>\n      <td>1</td>\n      <td>-73.941887</td>\n      <td>40.822948</td>\n      <td>-73.937180</td>\n      <td>40.804462</td>\n      <td>1</td>\n      <td>...</td>\n      <td>8.0</td>\n      <td>1.0</td>\n      <td>0.5</td>\n      <td>0.00</td>\n      <td>0.0</td>\n      <td>NaN</td>\n      <td>0.3</td>\n      <td>9.80</td>\n      <td>2</td>\n      <td>1</td>\n    </tr>\n  </tbody>\n</table>\n<p>65535 rows × 21 columns</p>\n</div>"
     },
     "execution_count": 16,
     "metadata": {},
     "output_type": "execute_result"
    }
   ],
   "source": [
    "green_trip_data\n"
   ],
   "metadata": {
    "collapsed": false,
    "ExecuteTime": {
     "end_time": "2024-04-12T18:26:50.444164Z",
     "start_time": "2024-04-12T18:26:50.374674Z"
    }
   },
   "id": "3499fdaffa36e88b",
   "execution_count": 16
  },
  {
   "cell_type": "code",
   "outputs": [
    {
     "data": {
      "text/plain": "(65535, 21)"
     },
     "execution_count": 17,
     "metadata": {},
     "output_type": "execute_result"
    }
   ],
   "source": [
    "green_trip_data.shape"
   ],
   "metadata": {
    "collapsed": false,
    "ExecuteTime": {
     "end_time": "2024-04-12T18:27:28.230742Z",
     "start_time": "2024-04-12T18:27:28.219763Z"
    }
   },
   "id": "a6012481a9cd277f",
   "execution_count": 17
  },
  {
   "cell_type": "code",
   "outputs": [
    {
     "data": {
      "text/plain": "VendorID                          int64\nlpep_pickup_datetime     datetime64[ns]\nLpep_dropoff_datetime    datetime64[ns]\nStore_and_fwd_flag               object\nRateCodeID                        int64\nPickup_longitude                float64\nPickup_latitude                 float64\nDropoff_longitude               float64\nDropoff_latitude                float64\nPassenger_count                   int64\nTrip_distance                   float64\nFare_amount                     float64\nExtra                           float64\nMTA_tax                         float64\nTip_amount                      float64\nTolls_amount                    float64\nEhail_fee                       float64\nimprovement_surcharge           float64\nTotal_amount                    float64\nPayment_type                      int64\nTrip_type                         int64\ndtype: object"
     },
     "execution_count": 18,
     "metadata": {},
     "output_type": "execute_result"
    }
   ],
   "source": [
    "green_trip_data.dtypes"
   ],
   "metadata": {
    "collapsed": false,
    "ExecuteTime": {
     "end_time": "2024-04-12T18:27:38.631280Z",
     "start_time": "2024-04-12T18:27:38.619320Z"
    }
   },
   "id": "e60bbd40a6ee08ac",
   "execution_count": 18
  },
  {
   "cell_type": "code",
   "outputs": [],
   "source": [],
   "metadata": {
    "collapsed": false
   },
   "id": "a6691abb6310b861"
  }
 ],
 "metadata": {
  "kernelspec": {
   "display_name": "Python 3",
   "language": "python",
   "name": "python3"
  },
  "language_info": {
   "codemirror_mode": {
    "name": "ipython",
    "version": 2
   },
   "file_extension": ".py",
   "mimetype": "text/x-python",
   "name": "python",
   "nbconvert_exporter": "python",
   "pygments_lexer": "ipython2",
   "version": "2.7.6"
  }
 },
 "nbformat": 4,
 "nbformat_minor": 5
}
